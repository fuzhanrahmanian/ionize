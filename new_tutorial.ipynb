{
 "cells": [
  {
   "cell_type": "markdown",
   "metadata": {},
   "source": [
    "ionize Tutorial\n",
    "===============\n",
    "**ionize** is a Python module for calculating the properties of ions and electrolyte solutions. "
   ]
  },
  {
   "cell_type": "code",
   "execution_count": 1,
   "metadata": {},
   "outputs": [],
   "source": [
    "# Setup\n",
    "from __future__ import print_function, absolute_import, division\n",
    "import ionize\n",
    "import pprint\n",
    "\n",
    "from matplotlib import pyplot as plot\n",
    "%matplotlib inline\n",
    "\n",
    "import numpy as np\n",
    "np.set_printoptions(precision=3)"
   ]
  },
  {
   "cell_type": "markdown",
   "metadata": {},
   "source": [
    "Ions\n",
    "----\n",
    "The basic building block that ionize is the a single ionic species. Small ions (as opposed to ion complexes or polyions) are represented by the **Ion** class. \n",
    "\n",
    "An Ion has the following properties that can be set on initialization. \n",
    "\n",
    "- name\n",
    "- valence (as an interable of integers)\n",
    "- reference_pKa (as an iterable of floats)\n",
    "- reference_mobility (as an interable of floats, in m^2/V/s)\n",
    "- reference_temperature, the temperature at which other parameters are measured, in degC (default = 25 degC)\n",
    "- enthalpy, the change in enthalpy on ionization, as an interable, in J/mol/K\n",
    "- heat_capacity, the change in heat_capacity on ionization, as an iterable, in J/mol/K^2\n",
    "- molecular_weight, in Daltons\n",
    "- alias, an iterable of alternate names\n",
    "- nightingale_data, data fitting change in mobility with temperature\n",
    "\n",
    "Only the name, valence, pKa, and mobility are required parameters. All other parameters are optional."
   ]
  },
  {
   "cell_type": "code",
   "execution_count": 2,
   "metadata": {},
   "outputs": [
    {
     "name": "stdout",
     "output_type": "stream",
     "text": [
      "Ion('myAcid')\n",
      "Ion(valence=[1], heat_capacity=None, reference_temperature=25.0, name='myBase', molecular_weight=None, reference_pKa=[8.0], enthalpy=None, reference_mobility=[2e-08], nightingale_data=None, alias=None)\n"
     ]
    }
   ],
   "source": [
    "acid = ionize.Ion('myAcid', [-1], [5], [-25e-9])\n",
    "base = ionize.Ion('myBase', [1], [8], [20e-9])\n",
    "print(acid)        # The string includes only the class and name.\n",
    "print(repr(base))  # The representation contains enough information to reconstruct the ion. "
   ]
  },
  {
   "cell_type": "markdown",
   "metadata": {},
   "source": [
    "The guranteed interfaces of ion species are:\n",
    "- charge(pH, ionic_strength, temperature)\n",
    "    - Return the charge per ion at the specified condition\n",
    "- mobility(pH, ionic_strength, temperature)\n",
    "    - Return the effective mobility in m^2/V/s at the specified conditions\n",
    "- diffusivity(pH, ionic_strength, temperature)\n",
    "    - Return the diffusivity in m^2/s for the ion\n",
    "- molar_conductivity(pH, ionic_strength, temperature)\n",
    "    - Return the molar conductivity in S/M\n",
    "- separability(other, pH, ionic_strength, temperature)\n",
    "    - Return the separability between the ion and another ion at the specified condition.\n",
    "- serialize(nested, compact)\n",
    "    - Return a serialized JSON representation. \n",
    "- save(filename)\n",
    "    - Save the ion to a file in JSON format.\n",
    "    \n",
    "In addition, BaseIon subclasses usually have some unique interfaced. "
   ]
  },
  {
   "cell_type": "code",
   "execution_count": 3,
   "metadata": {},
   "outputs": [
    {
     "name": "stdout",
     "output_type": "stream",
     "text": [
      "myAcid Ka at (I=0 M) = [  1.001e-05]\n",
      "myAcid Ka at (I=0.5 M) = [  1.781e-05]\n"
     ]
    },
    {
     "data": {
      "image/png": "[encoded data removed]",
      "text/plain": [
       "<matplotlib.figure.Figure at 0x7f8eec03cc18>"
      ]
     },
     "metadata": {},
     "output_type": "display_data"
    }
   ],
   "source": [
    "print('myAcid Ka at (I=0 M) =', acid.acidity())\n",
    "print('myAcid Ka at (I=0.5 M) =', acid.acidity(ionic_strength=0.5))\n",
    "\n",
    "pH = np.linspace(0,14)\n",
    "\n",
    "for I in [None, 0., 0.001, 0.01, 0.1]:\n",
    "    mu = [base.mobility(p, I) for p in pH]\n",
    "    if I is not None:\n",
    "        label = 'I={} M'.format(I)\n",
    "    else:\n",
    "        label = 'I=None'\n",
    "    plot.plot(pH, mu, label=label)\n",
    "\n",
    "plot.xlabel('pH'); plot.xlim(0, 14)\n",
    "plot.ylabel('effective mobility (m^2/v/s)'); plot.ylim(-.1e-8, 2.1e-8)\n",
    "plot.legend()\n",
    "plot.show()"
   ]
  },
  {
   "cell_type": "markdown",
   "metadata": {},
   "source": [
    "Note the difference between ionic_strength parameters here. If ionic_strength is 0, the numerical value of 0 is used in each calculation. However, it is impossible to have a solution of pH 0 with ionic_strength of 0. \n",
    "\n",
    "When the default value of None is used for ionic_strength, ionize uses the minimum ionic strength at the selected pH. "
   ]
  },
  {
   "cell_type": "markdown",
   "metadata": {},
   "source": [
    "**ionize** database\n",
    "---------------------------\n",
    "\n",
    "Individually initializing ions is error-prone and time-consuming. To simplify the process, load ions from \n",
    "the database by initializing the database, and accessing the database like a dictionary. "
   ]
  },
  {
   "cell_type": "code",
   "execution_count": 4,
   "metadata": {},
   "outputs": [
    {
     "name": "stdout",
     "output_type": "stream",
     "text": [
      "Ion(valence=[-1, 1, 2], heat_capacity=[-233.0, 176.0, 0.0], reference_temperature=25.0, name='histidine', molecular_weight=155.15, reference_pKa=[9.33, 6.04, 2.0], enthalpy=[43800.0, 29500.0, 3600.0], reference_mobility=[-2.8300000000000002e-08, 2.8800000000000003e-08, 4.47e-08], nightingale_data=None, alias=None)\n"
     ]
    },
    {
     "data": {
      "image/png": "[encoded data removed]",
      "text/plain": [
       "<matplotlib.figure.Figure at 0x7f8eec03c898>"
      ]
     },
     "metadata": {},
     "output_type": "display_data"
    }
   ],
   "source": [
    "db = ionize.Database()\n",
    "histidine = db['histidine']\n",
    "print(repr(histidine))\n",
    "\n",
    "for ionic_strength in (None, 0):\n",
    "    mu_histidine = [histidine.mobility(p, ionic_strength=ionic_strength) for p in pH]\n",
    "    plot.plot(pH, mu_histidine, label=\"I={}\".format(ionic_strength))\n",
    "    \n",
    "plot.xlabel('pH'); plot.xlim([0, 14])\n",
    "plot.ylabel('effective mobility (m^2/v/s)')\n",
    "plot.legend()\n",
    "plot.show()"
   ]
  },
  {
   "cell_type": "markdown",
   "metadata": {},
   "source": [
    "### search()\n",
    "\n",
    "You can also search for ions in the database by name using **search()** method of Database. search() will return a list of ion names, so load the ion when you find what you want. "
   ]
  },
  {
   "cell_type": "code",
   "execution_count": 5,
   "metadata": {},
   "outputs": [
    {
     "name": "stdout",
     "output_type": "stream",
     "text": [
      "Search results for 'amino'\n",
      "--------------------------\n",
      "('2-amino-2-methyl-1-propanol',\n",
      " 'e-aminocaproic acid',\n",
      " 'gamma-aminobutyric acid',\n",
      " 'o-aminobenzoic acid',\n",
      " 'p-aminobenzoic acid')\n",
      "\n",
      "Search results for 'chloric'\n",
      "----------------------------\n",
      "('chloric acid', 'hydrochloric acid', 'perchloric acid')\n",
      "\n",
      "Search results for 'per'\n",
      "------------------------\n",
      "('copper',\n",
      " 'diperodone',\n",
      " 'perchloric acid',\n",
      " 'periodic acid',\n",
      " 'permanganic acid',\n",
      " 'peroxysulfuric acid',\n",
      " 'perrhenic acid',\n",
      " 'piperidine')\n",
      "\n",
      "Oh, copper is what I was looking for.\n",
      "Ion('copper')\n"
     ]
    }
   ],
   "source": [
    "print(\"Search results for 'amino'\\n--------------------------\")\n",
    "pprint.pprint(db.search('amino'))\n",
    "print(\"\\nSearch results for 'chloric'\\n----------------------------\")\n",
    "pprint.pprint(db.search('chloric'))\n",
    "print(\"\\nSearch results for 'per'\\n------------------------\")\n",
    "pprint.pprint(db.search('per'))\n",
    "print('\\nOh, copper is what I was looking for.')\n",
    "print(db.load('copper'))"
   ]
  },
  {
   "cell_type": "markdown",
   "metadata": {
    "collapsed": true
   },
   "source": [
    "### Other db functions\n",
    "You can get the database data as a dictionary using the data method."
   ]
  },
  {
   "cell_type": "code",
   "execution_count": 6,
   "metadata": {},
   "outputs": [
    {
     "name": "stdout",
     "output_type": "stream",
     "text": [
      "522 ions in database.\n"
     ]
    }
   ],
   "source": [
    "print(len(db.data), 'ions in database.')"
   ]
  },
  {
   "cell_type": "markdown",
   "metadata": {},
   "source": [
    "Solution\n",
    "--------\n",
    "Getting the properties of a single ionic species in solution is useful, but the real challenge of dealing with aqueous solutions of ions is finding properties based on the equilibrium state of multiple ionic species. **ionize** can perform those calculations using the **Solution** class. **Solution** objects are initialized using **ionize**.**Solution**(*ions*, *concentrations*), where ions is a list of **Ion** objects and concentration is a list concentrations of the ions, with concentrations in molar."
   ]
  },
  {
   "cell_type": "code",
   "execution_count": 7,
   "metadata": {},
   "outputs": [
    {
     "name": "stdout",
     "output_type": "stream",
     "text": [
      "pH = 7.417824869226217\n",
      "I = 0.08500041539867613 M\n",
      "conductivity = 0.813690187538 S/m\n",
      "buffering capacity = 0.029570419065 M\n",
      "debye length = 1.4742500535996404e-09 m\n"
     ]
    },
    {
     "name": "stderr",
     "output_type": "stream",
     "text": [
      "/home/lewis/Documents/github/ionize/ionize/Ion/BaseIon.py:63: FutureWarning: comparison to `None` will result in an elementwise object comparison in the future.\n",
      "  assert getattr(self, prop) == getattr(other, prop)\n"
     ]
    }
   ],
   "source": [
    "buffer=ionize.Solution([db['tris'], db['chloride']], [0.1, 0.085])\n",
    "\n",
    "print('pH =', buffer.pH)\n",
    "print('I =', buffer.ionic_strength, 'M')\n",
    "print('conductivity =', buffer.conductivity(), 'S/m')\n",
    "print('buffering capacity =', buffer.buffering_capacity(), 'M')\n",
    "print('debye length =', buffer.debye(), 'm')"
   ]
  },
  {
   "cell_type": "markdown",
   "metadata": {},
   "source": [
    "**Solutions** can be initialized with ion names instead of ion objects."
   ]
  },
  {
   "cell_type": "code",
   "execution_count": 8,
   "metadata": {},
   "outputs": [
    {
     "name": "stdout",
     "output_type": "stream",
     "text": [
      "['bis-tris', 'acetic acid']\n",
      "0.03\n"
     ]
    },
    {
     "name": "stderr",
     "output_type": "stream",
     "text": [
      "/home/lewis/Documents/github/ionize/ionize/Ion/BaseIon.py:63: FutureWarning: comparison to `None` will result in an elementwise object comparison in the future.\n",
      "  assert getattr(self, prop) == getattr(other, prop)\n"
     ]
    }
   ],
   "source": [
    "sol = ionize.Solution(['bis-tris', 'acetic acid'], [0.1, 0.03])\n",
    "print([ion.name for ion in sol.ions])\n",
    "print(sol.concentration('acetic acid'))"
   ]
  },
  {
   "cell_type": "markdown",
   "metadata": {},
   "source": [
    "We can iterate through solutions to calculate the pH of a titration between two ions."
   ]
  },
  {
   "cell_type": "code",
   "execution_count": 9,
   "metadata": {},
   "outputs": [
    {
     "name": "stderr",
     "output_type": "stream",
     "text": [
      "/home/lewis/Documents/github/ionize/ionize/Ion/BaseIon.py:63: FutureWarning: comparison to `None` will result in an elementwise object comparison in the future.\n",
      "  assert getattr(self, prop) == getattr(other, prop)\n"
     ]
    },
    {
     "ename": "RuntimeError",
     "evalue": "Large ions may be contributing to charge, pH estimate is inaccurate.",
     "output_type": "error",
     "traceback": [
      "\u001b[1;31m---------------------------------------------------------------------------\u001b[0m",
      "\u001b[1;31mRuntimeError\u001b[0m                              Traceback (most recent call last)",
      "\u001b[1;32m<ipython-input-9-41987a31970c>\u001b[0m in \u001b[0;36m<module>\u001b[1;34m()\u001b[0m\n\u001b[0;32m      1\u001b[0m \u001b[0mc_tris\u001b[0m \u001b[1;33m=\u001b[0m \u001b[1;36m0.1\u001b[0m\u001b[1;33m\u001b[0m\u001b[0m\n\u001b[0;32m      2\u001b[0m \u001b[0mc_hcl\u001b[0m \u001b[1;33m=\u001b[0m \u001b[0mnp\u001b[0m\u001b[1;33m.\u001b[0m\u001b[0mlinspace\u001b[0m\u001b[1;33m(\u001b[0m\u001b[1;36m0.0\u001b[0m\u001b[1;33m,\u001b[0m \u001b[1;36m0.2\u001b[0m\u001b[1;33m,\u001b[0m \u001b[1;36m50\u001b[0m\u001b[1;33m)\u001b[0m\u001b[1;33m\u001b[0m\u001b[0m\n\u001b[1;32m----> 3\u001b[1;33m \u001b[0mt_pH\u001b[0m \u001b[1;33m=\u001b[0m \u001b[1;33m[\u001b[0m\u001b[0mionize\u001b[0m\u001b[1;33m.\u001b[0m\u001b[0mSolution\u001b[0m\u001b[1;33m(\u001b[0m\u001b[1;33m[\u001b[0m\u001b[1;34m'tris'\u001b[0m\u001b[1;33m,\u001b[0m \u001b[1;34m'hydrochloric acid'\u001b[0m\u001b[1;33m]\u001b[0m\u001b[1;33m,\u001b[0m \u001b[1;33m[\u001b[0m\u001b[0mc_tris\u001b[0m\u001b[1;33m,\u001b[0m \u001b[0mc_h\u001b[0m\u001b[1;33m]\u001b[0m\u001b[1;33m)\u001b[0m\u001b[1;33m.\u001b[0m\u001b[0mpH\u001b[0m \u001b[1;32mfor\u001b[0m \u001b[0mc_h\u001b[0m \u001b[1;32min\u001b[0m \u001b[0mc_hcl\u001b[0m\u001b[1;33m]\u001b[0m\u001b[1;33m\u001b[0m\u001b[0m\n\u001b[0m\u001b[0;32m      4\u001b[0m \u001b[1;33m\u001b[0m\u001b[0m\n\u001b[0;32m      5\u001b[0m \u001b[0mplot\u001b[0m\u001b[1;33m.\u001b[0m\u001b[0mplot\u001b[0m\u001b[1;33m(\u001b[0m\u001b[0mc_hcl\u001b[0m\u001b[1;33m/\u001b[0m\u001b[0mc_tris\u001b[0m\u001b[1;33m,\u001b[0m \u001b[0mt_pH\u001b[0m\u001b[1;33m)\u001b[0m\u001b[1;33m\u001b[0m\u001b[0m\n",
      "\u001b[1;32m<ipython-input-9-41987a31970c>\u001b[0m in \u001b[0;36m<listcomp>\u001b[1;34m(.0)\u001b[0m\n\u001b[0;32m      1\u001b[0m \u001b[0mc_tris\u001b[0m \u001b[1;33m=\u001b[0m \u001b[1;36m0.1\u001b[0m\u001b[1;33m\u001b[0m\u001b[0m\n\u001b[0;32m      2\u001b[0m \u001b[0mc_hcl\u001b[0m \u001b[1;33m=\u001b[0m \u001b[0mnp\u001b[0m\u001b[1;33m.\u001b[0m\u001b[0mlinspace\u001b[0m\u001b[1;33m(\u001b[0m\u001b[1;36m0.0\u001b[0m\u001b[1;33m,\u001b[0m \u001b[1;36m0.2\u001b[0m\u001b[1;33m,\u001b[0m \u001b[1;36m50\u001b[0m\u001b[1;33m)\u001b[0m\u001b[1;33m\u001b[0m\u001b[0m\n\u001b[1;32m----> 3\u001b[1;33m \u001b[0mt_pH\u001b[0m \u001b[1;33m=\u001b[0m \u001b[1;33m[\u001b[0m\u001b[0mionize\u001b[0m\u001b[1;33m.\u001b[0m\u001b[0mSolution\u001b[0m\u001b[1;33m(\u001b[0m\u001b[1;33m[\u001b[0m\u001b[1;34m'tris'\u001b[0m\u001b[1;33m,\u001b[0m \u001b[1;34m'hydrochloric acid'\u001b[0m\u001b[1;33m]\u001b[0m\u001b[1;33m,\u001b[0m \u001b[1;33m[\u001b[0m\u001b[0mc_tris\u001b[0m\u001b[1;33m,\u001b[0m \u001b[0mc_h\u001b[0m\u001b[1;33m]\u001b[0m\u001b[1;33m)\u001b[0m\u001b[1;33m.\u001b[0m\u001b[0mpH\u001b[0m \u001b[1;32mfor\u001b[0m \u001b[0mc_h\u001b[0m \u001b[1;32min\u001b[0m \u001b[0mc_hcl\u001b[0m\u001b[1;33m]\u001b[0m\u001b[1;33m\u001b[0m\u001b[0m\n\u001b[0m\u001b[0;32m      4\u001b[0m \u001b[1;33m\u001b[0m\u001b[0m\n\u001b[0;32m      5\u001b[0m \u001b[0mplot\u001b[0m\u001b[1;33m.\u001b[0m\u001b[0mplot\u001b[0m\u001b[1;33m(\u001b[0m\u001b[0mc_hcl\u001b[0m\u001b[1;33m/\u001b[0m\u001b[0mc_tris\u001b[0m\u001b[1;33m,\u001b[0m \u001b[0mt_pH\u001b[0m\u001b[1;33m)\u001b[0m\u001b[1;33m\u001b[0m\u001b[0m\n",
      "\u001b[1;32m/home/lewis/Documents/github/ionize/ionize/Solution/__init__.py\u001b[0m in \u001b[0;36m__init__\u001b[1;34m(self, ions, concentrations)\u001b[0m\n\u001b[0;32m    128\u001b[0m                 \u001b[1;34m\"Solvent components cannot be manually added to Solution.\"\u001b[0m\u001b[1;33m\u001b[0m\u001b[0m\n\u001b[0;32m    129\u001b[0m \u001b[1;33m\u001b[0m\u001b[0m\n\u001b[1;32m--> 130\u001b[1;33m         \u001b[0mself\u001b[0m\u001b[1;33m.\u001b[0m\u001b[0m_equilibrate\u001b[0m\u001b[1;33m(\u001b[0m\u001b[1;33m)\u001b[0m\u001b[1;33m\u001b[0m\u001b[0m\n\u001b[0m\u001b[0;32m    131\u001b[0m \u001b[1;33m\u001b[0m\u001b[0m\n\u001b[0;32m    132\u001b[0m     \u001b[1;32mdef\u001b[0m \u001b[0mtemperature\u001b[0m\u001b[1;33m(\u001b[0m\u001b[0mself\u001b[0m\u001b[1;33m,\u001b[0m \u001b[0mtemperature\u001b[0m\u001b[1;33m=\u001b[0m\u001b[1;32mNone\u001b[0m\u001b[1;33m)\u001b[0m\u001b[1;33m:\u001b[0m\u001b[1;33m\u001b[0m\u001b[0m\n",
      "\u001b[1;32m/home/lewis/Documents/github/ionize/ionize/Solution/equilibrium.py\u001b[0m in \u001b[0;36m_equilibrate\u001b[1;34m(self)\u001b[0m\n\u001b[0;32m    152\u001b[0m \u001b[1;33m\u001b[0m\u001b[0m\n\u001b[0;32m    153\u001b[0m     \u001b[1;32mif\u001b[0m \u001b[0mI_small\u001b[0m \u001b[1;33m<\u001b[0m \u001b[0mI\u001b[0m\u001b[1;33m/\u001b[0m\u001b[1;36m2.\u001b[0m\u001b[1;33m:\u001b[0m\u001b[1;33m\u001b[0m\u001b[0m\n\u001b[1;32m--> 154\u001b[1;33m         raise RuntimeError('Large ions may be contributing to charge, '\n\u001b[0m\u001b[0;32m    155\u001b[0m                            'pH estimate is inaccurate.')\n\u001b[0;32m    156\u001b[0m \u001b[1;33m\u001b[0m\u001b[0m\n",
      "\u001b[1;31mRuntimeError\u001b[0m: Large ions may be contributing to charge, pH estimate is inaccurate."
     ]
    }
   ],
   "source": [
    "c_tris = 0.1\n",
    "c_hcl = np.linspace(0.0, 0.2, 50)\n",
    "t_pH = [ionize.Solution(['tris', 'hydrochloric acid'], [c_tris, c_h]).pH for c_h in c_hcl]\n",
    "\n",
    "plot.plot(c_hcl/c_tris, t_pH)\n",
    "plot.xlabel('[HCl]/[Tris]')\n",
    "plot.ylabel('pH')\n",
    "plot.show()"
   ]
  },
  {
   "cell_type": "markdown",
   "metadata": {},
   "source": [
    "A **Solution** can also be initialized without ions, e.g. as water. "
   ]
  },
  {
   "cell_type": "code",
   "execution_count": null,
   "metadata": {},
   "outputs": [],
   "source": [
    "water = ionize.Solution()\n",
    "print('I =', water.ionic_strength, 'M')\n",
    "print('pH =', water.pH)\n",
    "print('conductivity =', water.conductivity(), 'S/m')"
   ]
  },
  {
   "cell_type": "markdown",
   "metadata": {},
   "source": [
    "A Solution can also be added and multiplied. This can be useful when calculating the results of diltuions, as below."
   ]
  },
  {
   "cell_type": "code",
   "execution_count": null,
   "metadata": {},
   "outputs": [],
   "source": [
    "print('Stock:', buffer)\n",
    "dilution = 0.5 * buffer + 0.5 * water\n",
    "print('Dilution:', dilution)"
   ]
  },
  {
   "cell_type": "markdown",
   "metadata": {
    "collapsed": true
   },
   "source": [
    "**Solutions** can be titrated to a specified pH. To do so, make a solution, and then specify a titrant, a property, and a target.  "
   ]
  },
  {
   "cell_type": "code",
   "execution_count": null,
   "metadata": {},
   "outputs": [],
   "source": [
    "buff = ionize.Solution(['tris'], 0.1)\n",
    "print(buff.titrate('hydrochloric acid', 8.2))\n",
    "print(buff.titrate('hydrochloric acid', 3))\n",
    "print(buff.conductivity())\n",
    "print(repr(buff.titrate('hydrochloric acid', 3, titration_property = 'conductivity')))\n",
    "print(repr(buff.titrate('hydrochloric acid', 8)))"
   ]
  },
  {
   "cell_type": "code",
   "execution_count": null,
   "metadata": {
    "collapsed": true
   },
   "outputs": [],
   "source": []
  }
 ],
 "metadata": {
  "kernelspec": {
   "display_name": "Python 3",
   "language": "python",
   "name": "python3"
  },
  "language_info": {
   "codemirror_mode": {
    "name": "ipython",
    "version": 3
   },
   "file_extension": ".py",
   "mimetype": "text/x-python",
   "name": "python",
   "nbconvert_exporter": "python",
   "pygments_lexer": "ipython3",
   "version": "3.7.1"
  }
 },
 "nbformat": 4,
 "nbformat_minor": 1
}
